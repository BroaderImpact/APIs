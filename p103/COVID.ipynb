{
 "cells": [
  {
   "cell_type": "code",
   "execution_count": 21,
   "metadata": {},
   "outputs": [],
   "source": [
    "import requests"
   ]
  },
  {
   "cell_type": "code",
   "execution_count": 22,
   "metadata": {},
   "outputs": [],
   "source": [
    "url = \"https://covidtracking.com/api/states?state=ny\""
   ]
  },
  {
   "cell_type": "code",
   "execution_count": 23,
   "metadata": {},
   "outputs": [],
   "source": [
    "response = requests.request(\"GET\", url)"
   ]
  },
  {
   "cell_type": "code",
   "execution_count": 24,
   "metadata": {},
   "outputs": [
    {
     "name": "stdout",
     "output_type": "stream",
     "text": [
      "{\"date\":20200814,\"state\":\"NY\",\"positive\":424167,\"negative\":6477669,\"pending\":null,\"hospitalizedCurrently\":554,\"hospitalizedCumulative\":89995,\"inIcuCurrently\":127,\"inIcuCumulative\":null,\"onVentilatorCurrently\":59,\"onVentilatorCumulative\":null,\"recovered\":73997,\"dataQualityGrade\":\"A\",\"lastUpdateEt\":\"8/13/2020 23:59\",\"dateModified\":\"2020-08-13T23:59:00Z\",\"checkTimeEt\":\"08/13 19:59\",\"death\":25232,\"hospitalized\":89995,\"dateChecked\":\"2020-08-13T23:59:00Z\",\"totalTestsViral\":null,\"positiveTestsViral\":null,\"negativeTestsViral\":null,\"positiveCasesViral\":424167,\"deathConfirmed\":null,\"deathProbable\":null,\"totalTestEncountersViral\":null,\"totalTestsPeopleViral\":6901836,\"totalTestsAntibody\":null,\"positiveTestsAntibody\":null,\"negativeTestsAntibody\":null,\"totalTestsPeopleAntibody\":null,\"positiveTestsPeopleAntibody\":null,\"negativeTestsPeopleAntibody\":null,\"totalTestsPeopleAntigen\":null,\"positiveTestsPeopleAntigen\":null,\"totalTestsAntigen\":null,\"positiveTestsAntigen\":null,\"fips\":\"36\",\"positiveIncrease\":727,\"negativeIncrease\":84728,\"total\":6901836,\"totalTestResults\":6901836,\"totalTestResultsIncrease\":85455,\"posNeg\":6901836,\"deathIncrease\":4,\"hospitalizedIncrease\":0,\"hash\":\"a683888b5fe695bfaf533d7ece1c6c6fecbe28c7\",\"commercialScore\":0,\"negativeRegularScore\":0,\"negativeScore\":0,\"positiveScore\":0,\"score\":0,\"grade\":\"\"}\n",
      "\n"
     ]
    }
   ],
   "source": [
    "print(response.text)"
   ]
  },
  {
   "cell_type": "code",
   "execution_count": 25,
   "metadata": {},
   "outputs": [],
   "source": [
    "json_response = response.json()"
   ]
  },
  {
   "cell_type": "code",
   "execution_count": 26,
   "metadata": {},
   "outputs": [
    {
     "data": {
      "text/plain": [
       "dict"
      ]
     },
     "execution_count": 26,
     "metadata": {},
     "output_type": "execute_result"
    }
   ],
   "source": [
    "type(json_response)"
   ]
  },
  {
   "cell_type": "code",
   "execution_count": 29,
   "metadata": {},
   "outputs": [],
   "source": [
    "state = json_response['state']"
   ]
  },
  {
   "cell_type": "code",
   "execution_count": 30,
   "metadata": {},
   "outputs": [],
   "source": [
    "num_pos_cases = json_response['positive']"
   ]
  },
  {
   "cell_type": "code",
   "execution_count": 33,
   "metadata": {},
   "outputs": [
    {
     "name": "stdout",
     "output_type": "stream",
     "text": [
      "In the state of NY, there have been 424167 cases of COVID-19\n"
     ]
    }
   ],
   "source": [
    "print(\"In the state of {}, there have been {} cases of COVID-19\".format(state, num_pos_cases))"
   ]
  }
 ],
 "metadata": {
  "kernelspec": {
   "display_name": "Python 3",
   "language": "python",
   "name": "python3"
  },
  "language_info": {
   "codemirror_mode": {
    "name": "ipython",
    "version": 3
   },
   "file_extension": ".py",
   "mimetype": "text/x-python",
   "name": "python",
   "nbconvert_exporter": "python",
   "pygments_lexer": "ipython3",
   "version": "3.7.3"
  }
 },
 "nbformat": 4,
 "nbformat_minor": 4
}
